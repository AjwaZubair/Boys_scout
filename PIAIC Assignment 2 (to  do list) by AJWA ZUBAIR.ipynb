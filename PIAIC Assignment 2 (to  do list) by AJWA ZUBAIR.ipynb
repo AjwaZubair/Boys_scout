{
 "cells": [
  {
   "cell_type": "markdown",
   "metadata": {},
   "source": [
    "# TO DO LIST APP"
   ]
  },
  {
   "cell_type": "code",
   "execution_count": 6,
   "metadata": {},
   "outputs": [
    {
     "name": "stdout",
     "output_type": "stream",
     "text": [
      "enter any task you do daily :wakeup\n",
      "your remaining task is :,['brush your teeth', 'take breakfast', 'perform namaz', 'lunch', 'house chores', 'perform namaz', 'dinner']\n",
      "your complete task is :,['wakeup']\n"
     ]
    }
   ],
   "source": [
    "task_list=['wakeup', 'brush your teeth', 'take breakfast', 'perform namaz', 'lunch', 'house chores', 'perform namaz', 'dinner']\n",
    "empty_list=[]\n",
    "task_select=input('enter any task you do daily :')\n",
    "if task_select in task_list:\n",
    "    store_task=task_list.index(task_select)\n",
    "    task_list.pop(store_task)\n",
    "    empty_list.append(task_select)\n",
    "    print(f\"your remaining task is :,{task_list}\")\n",
    "    print(f\"your complete task is :,{empty_list}\")\n",
    "else:\n",
    "    print(\"your task is not in list\")"
   ]
  },
  {
   "cell_type": "code",
   "execution_count": null,
   "metadata": {},
   "outputs": [],
   "source": []
  }
 ],
 "metadata": {
  "kernelspec": {
   "display_name": "Python 3",
   "language": "python",
   "name": "python3"
  },
  "language_info": {
   "codemirror_mode": {
    "name": "ipython",
    "version": 3
   },
   "file_extension": ".py",
   "mimetype": "text/x-python",
   "name": "python",
   "nbconvert_exporter": "python",
   "pygments_lexer": "ipython3",
   "version": "3.7.3"
  }
 },
 "nbformat": 4,
 "nbformat_minor": 2
}
